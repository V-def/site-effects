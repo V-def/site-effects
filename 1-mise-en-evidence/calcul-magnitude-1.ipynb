{
 "cells": [
  {
   "cell_type": "markdown",
   "metadata": {},
   "source": [
    "# Analyse de données sismiques\n",
    "## Modules"
   ]
  },
  {
   "cell_type": "code",
   "execution_count": 1,
   "metadata": {},
   "outputs": [],
   "source": [
    "import numpy as np\n",
    "import matplotlib.pyplot as plt\n",
    "\n",
    "%matplotlib inline"
   ]
  },
  {
   "cell_type": "code",
   "execution_count": 2,
   "metadata": {},
   "outputs": [],
   "source": [
    "import pandas as pd"
   ]
  },
  {
   "cell_type": "code",
   "execution_count": 3,
   "metadata": {},
   "outputs": [],
   "source": [
    "from obspy import read, read_inventory, UTCDateTime, Stream\n",
    "from obspy.clients.fdsn import Client\n",
    "from obspy.geodetics.base import gps2dist_azimuth"
   ]
  },
  {
   "cell_type": "markdown",
   "metadata": {},
   "source": [
    "## Données"
   ]
  },
  {
   "cell_type": "code",
   "execution_count": 409,
   "metadata": {},
   "outputs": [],
   "source": [
    "client = Client(\"RESIF\") # Réseau français"
   ]
  },
  {
   "cell_type": "markdown",
   "metadata": {},
   "source": [
    "### Informations sur le séisme\n",
    "https://renass.unistra.fr/fr/evenements/fr2021gthfmw/#"
   ]
  },
  {
   "cell_type": "code",
   "execution_count": 495,
   "metadata": {},
   "outputs": [],
   "source": [
    "starttime = UTCDateTime(2021,6,26,3,0,0)\n",
    "duration = 3*60\n",
    "location = (48.66, 7.82)"
   ]
  },
  {
   "cell_type": "markdown",
   "metadata": {},
   "source": [
    "### Stations"
   ]
  },
  {
   "cell_type": "code",
   "execution_count": 451,
   "metadata": {},
   "outputs": [],
   "source": [
    "stations = {'WALT', 'HOHE', 'CIEL', 'WLS', 'NEEW', 'SZBH', 'STR', 'ILLF', 'ZELS'}\n",
    "direction_plans = {\"horizontale\" : (\"N\", \"E\", \"W\", \"S\", \"1\", \"2\",), \"verticale\" : (\"Z\",)}"
   ]
  },
  {
   "cell_type": "markdown",
   "metadata": {},
   "source": [
    "### Récupération des données/métadonnées des stations"
   ]
  },
  {
   "cell_type": "code",
   "execution_count": 511,
   "metadata": {},
   "outputs": [],
   "source": [
    "def get_S(name):\n",
    "    return client.get_waveforms(\"FR\", name, \"00\", \"HH*\", starttime, starttime + duration)"
   ]
  },
  {
   "cell_type": "code",
   "execution_count": 453,
   "metadata": {},
   "outputs": [],
   "source": [
    "def get_inventory(name):\n",
    "    return client.get_stations(network=\"FR\", station=name, channel=\"HH*\", starttime=starttime, level=\"response\")"
   ]
  },
  {
   "cell_type": "code",
   "execution_count": 465,
   "metadata": {},
   "outputs": [],
   "source": [
    "def download_inventory(stations=stations, filename='data/data.xml'):\n",
    "    inventory = get_inventory(','.join(stations))\n",
    "    inventory.write(filename, format='STATIONXML')\n",
    "    return inventory"
   ]
  },
  {
   "cell_type": "code",
   "execution_count": 455,
   "metadata": {},
   "outputs": [],
   "source": [
    "def download_S(stations=stations, filename='data/data.miniseed', display=True):\n",
    "    S = Stream()\n",
    "    for station in stations:\n",
    "        try:\n",
    "            S += get_S(station)\n",
    "            text = f'Données de {station} récupérées'\n",
    "        except Exception:\n",
    "            text = f'Erreur à {station}'\n",
    "        if display:\n",
    "            print(text)\n",
    "    S.write(filename, format=\"MSEED\")\n",
    "    return S"
   ]
  },
  {
   "cell_type": "code",
   "execution_count": 456,
   "metadata": {},
   "outputs": [],
   "source": [
    "def download(stations=stations):\n",
    "    return download_S(stations), download_inventory(stations)"
   ]
  },
  {
   "cell_type": "code",
   "execution_count": 466,
   "metadata": {},
   "outputs": [],
   "source": [
    "def load():\n",
    "    return read('data/data.miniseed'), read_inventory('data/data.xml')"
   ]
  },
  {
   "cell_type": "markdown",
   "metadata": {},
   "source": [
    "### Analyse du signal"
   ]
  },
  {
   "cell_type": "code",
   "execution_count": 487,
   "metadata": {},
   "outputs": [],
   "source": [
    "def filtration(T):\n",
    "    T.detrend(\"demean\")\n",
    "    T.taper(0.1)\n",
    "    T.filter(\"bandpass\",freqmin=1,freqmax=5)"
   ]
  },
  {
   "cell_type": "code",
   "execution_count": 419,
   "metadata": {},
   "outputs": [],
   "source": [
    "def amplitude_brut(T):\n",
    "    t = T.data\n",
    "    amplitude = max(abs(t))\n",
    "    return amplitude"
   ]
  },
  {
   "cell_type": "code",
   "execution_count": 488,
   "metadata": {},
   "outputs": [],
   "source": [
    "def gain(T, inventory):\n",
    "    chinv = inventory.select(channel=T.id.split('.')[-1])[0][0][0]\n",
    "    gain = chinv.response.instrument_sensitivity.value\n",
    "    return gain"
   ]
  },
  {
   "cell_type": "code",
   "execution_count": 512,
   "metadata": {},
   "outputs": [],
   "source": [
    "def dist_epi(station, inventory):\n",
    "    stinv = inventory.select(station=station)[0][0]\n",
    "    distance = gps2dist_azimuth(stinv.latitude, stinv.longitude, location[0], location[1])[0]\n",
    "    return distance"
   ]
  },
  {
   "cell_type": "code",
   "execution_count": 422,
   "metadata": {},
   "outputs": [],
   "source": [
    "def get_amplitudes(S, inventory, plot=False):\n",
    "    amplitudes = {}\n",
    "    \n",
    "    for T in S:\n",
    "        amplitude = amplitude_brut(T)/gain(T, inventory)\n",
    "        station = T.id.split('.')[1]\n",
    "        direction = T.id[-1]\n",
    "        \n",
    "        try:\n",
    "            amplitudes[station]\n",
    "        except KeyError:\n",
    "            amplitudes[station] = {\"horizontale\": [], \"verticale\": []}\n",
    "            \n",
    "        for plan in direction_plans:\n",
    "            if direction in direction_plans[plan]:\n",
    "                amplitudes[station][plan].append(amplitude)\n",
    "                \n",
    "        if plot:\n",
    "            T.plot()\n",
    "    \n",
    "    # np.average(amplitudes_values[plan])\n",
    "        \n",
    "    return amplitudes"
   ]
  },
  {
   "cell_type": "markdown",
   "metadata": {},
   "source": [
    "#### Fréquences"
   ]
  },
  {
   "cell_type": "code",
   "execution_count": 534,
   "metadata": {},
   "outputs": [],
   "source": [
    "def spectre(T):\n",
    "    TFZ = np.fft.fft(T.data)/gain(T, inventory)\n",
    "    f = np.fft.fftfreq(len(TFZ),T.stats.delta)\n",
    "\n",
    "    plt.plot(f, np.abs(TFZ), label=T.id)\n",
    "    plt.xlabel('frequence (Hz)')\n",
    "    plt.ylabel('amplitude (m/s)')\n",
    "    plt.xlim((0,10))\n",
    "    plt.legend()"
   ]
  },
  {
   "cell_type": "code",
   "execution_count": 491,
   "metadata": {},
   "outputs": [],
   "source": [
    "def freq_max(T):\n",
    "    TFZ = np.fft.fft(T.data)/gain(T, inventory)\n",
    "    f = np.fft.fftfreq(len(TFZ),T.stats.delta)\n",
    "    amplitude = np.argmax(TFZ)\n",
    "    frequence = np.abs(f[amplitude])\n",
    "    return frequence"
   ]
  },
  {
   "cell_type": "markdown",
   "metadata": {},
   "source": [
    "#### Magnitude locale\n",
    "https://www.resif.fr/ressources/sismologie/dictionnaire-des-termes-de-sismologie/"
   ]
  },
  {
   "cell_type": "code",
   "execution_count": 442,
   "metadata": {},
   "outputs": [],
   "source": [
    "def magnitude_locale(amplitude, distance):\n",
    "    \"\"\"\n",
    "    amplitude : m/s\n",
    "    distance : m\n",
    "    \"\"\"\n",
    "    a = 0.018\n",
    "    b = 2.17\n",
    "    return np.log10(amplitude * 1000) + a * distance/1000 + b"
   ]
  },
  {
   "cell_type": "markdown",
   "metadata": {},
   "source": [
    "### Récolte des données sous forme de tableau"
   ]
  },
  {
   "cell_type": "code",
   "execution_count": 460,
   "metadata": {},
   "outputs": [],
   "source": [
    "def get_df(S, inventory, plot=False):\n",
    "    data = get_amplitudes(S, inventory, plot=plot)\n",
    "    df = pd.DataFrame.from_dict(data=data, orient='index')\n",
    "    df.index.name = 'station'\n",
    "    df['nom'] = df.apply(lambda row: inventory.select(station=row.name)[0][0].site.name, axis=1)\n",
    "    df['horizontale'] = df['horizontale'].apply(np.average)\n",
    "    df['verticale'] = df['verticale'].apply(np.average)\n",
    "    df['distance'] = df.apply(lambda row: dist_epi(row.name, inventory=inventory), axis=1)\n",
    "    df['frequence'] = df.apply(lambda row: freq_max(S.select(station=row.name, component='Z')[0]), axis=1)\n",
    "    df['Ml'] = df.apply(lambda row: magnitude_locale(max(row.horizontale, row.verticale), row.distance), axis=1)\n",
    "    df['Mlv'] = df.apply(lambda row: magnitude_locale(row.verticale, row.distance), axis=1)\n",
    "    df = df.sort_values(by='distance')\n",
    "    return df"
   ]
  },
  {
   "cell_type": "code",
   "execution_count": null,
   "metadata": {},
   "outputs": [],
   "source": [
    "download()"
   ]
  },
  {
   "cell_type": "code",
   "execution_count": 493,
   "metadata": {},
   "outputs": [],
   "source": [
    "# download() # télécharger les données\n",
    "S, inventory = load() # charge les données\n",
    "Skeep = S.copy() # copie les données\n",
    "filtration(S) # filtre les données\n",
    "df = get_df(S, inventory, plot=False)"
   ]
  },
  {
   "cell_type": "code",
   "execution_count": 535,
   "metadata": {},
   "outputs": [
    {
     "data": {
      "image/png": "[encoded data removed]",
      "text/plain": [
       "<Figure size 432x288 with 1 Axes>"
      ]
     },
     "metadata": {
      "needs_background": "light"
     },
     "output_type": "display_data"
    }
   ],
   "source": [
    "# S.plot()\n",
    "ax = inventory.plot(projection=\"local\")"
   ]
  },
  {
   "cell_type": "code",
   "execution_count": 463,
   "metadata": {
    "scrolled": true
   },
   "outputs": [
    {
     "data": {
      "text/html": [
       "<div>\n",
       "<style scoped>\n",
       "    .dataframe tbody tr th:only-of-type {\n",
       "        vertical-align: middle;\n",
       "    }\n",
       "\n",
       "    .dataframe tbody tr th {\n",
       "        vertical-align: top;\n",
       "    }\n",
       "\n",
       "    .dataframe thead th {\n",
       "        text-align: right;\n",
       "    }\n",
       "</style>\n",
       "<table border=\"1\" class=\"dataframe\">\n",
       "  <thead>\n",
       "    <tr style=\"text-align: right;\">\n",
       "      <th></th>\n",
       "      <th>horizontale</th>\n",
       "      <th>verticale</th>\n",
       "      <th>nom</th>\n",
       "      <th>distance</th>\n",
       "      <th>frequence</th>\n",
       "      <th>Ml</th>\n",
       "      <th>Mlv</th>\n",
       "    </tr>\n",
       "    <tr>\n",
       "      <th>station</th>\n",
       "      <th></th>\n",
       "      <th></th>\n",
       "      <th></th>\n",
       "      <th></th>\n",
       "      <th></th>\n",
       "      <th></th>\n",
       "      <th></th>\n",
       "    </tr>\n",
       "  </thead>\n",
       "  <tbody>\n",
       "    <tr>\n",
       "      <th>STR</th>\n",
       "      <td>0.002694</td>\n",
       "      <td>0.000554</td>\n",
       "      <td>Strasbourg</td>\n",
       "      <td>9839.470651</td>\n",
       "      <td>2.983333</td>\n",
       "      <td>2.777480</td>\n",
       "      <td>2.090549</td>\n",
       "    </tr>\n",
       "    <tr>\n",
       "      <th>HOHE</th>\n",
       "      <td>0.000203</td>\n",
       "      <td>0.000180</td>\n",
       "      <td>Hohengœft</td>\n",
       "      <td>24730.920314</td>\n",
       "      <td>3.361111</td>\n",
       "      <td>1.922862</td>\n",
       "      <td>1.869979</td>\n",
       "    </tr>\n",
       "    <tr>\n",
       "      <th>CIEL</th>\n",
       "      <td>0.000246</td>\n",
       "      <td>0.000121</td>\n",
       "      <td>Vacanciel</td>\n",
       "      <td>38657.037798</td>\n",
       "      <td>1.388889</td>\n",
       "      <td>2.257550</td>\n",
       "      <td>1.949050</td>\n",
       "    </tr>\n",
       "    <tr>\n",
       "      <th>NEEW</th>\n",
       "      <td>0.000084</td>\n",
       "      <td>0.000066</td>\n",
       "      <td>Neewiller</td>\n",
       "      <td>38969.213465</td>\n",
       "      <td>2.449932</td>\n",
       "      <td>1.796989</td>\n",
       "      <td>1.689643</td>\n",
       "    </tr>\n",
       "    <tr>\n",
       "      <th>ZELS</th>\n",
       "      <td>0.000065</td>\n",
       "      <td>0.000068</td>\n",
       "      <td>Zelsheim</td>\n",
       "      <td>42143.981841</td>\n",
       "      <td>1.649954</td>\n",
       "      <td>1.763280</td>\n",
       "      <td>1.763280</td>\n",
       "    </tr>\n",
       "    <tr>\n",
       "      <th>WALT</th>\n",
       "      <td>0.000049</td>\n",
       "      <td>0.000097</td>\n",
       "      <td>Westhalten</td>\n",
       "      <td>87090.321688</td>\n",
       "      <td>1.366629</td>\n",
       "      <td>2.724182</td>\n",
       "      <td>2.724182</td>\n",
       "    </tr>\n",
       "    <tr>\n",
       "      <th>ILLF</th>\n",
       "      <td>0.000048</td>\n",
       "      <td>0.000028</td>\n",
       "      <td>Illfurth</td>\n",
       "      <td>116453.372036</td>\n",
       "      <td>1.749951</td>\n",
       "      <td>2.943513</td>\n",
       "      <td>2.718585</td>\n",
       "    </tr>\n",
       "  </tbody>\n",
       "</table>\n",
       "</div>"
      ],
      "text/plain": [
       "         horizontale  verticale         nom       distance  frequence  \\\n",
       "station                                                                 \n",
       "STR         0.002694   0.000554  Strasbourg    9839.470651   2.983333   \n",
       "HOHE        0.000203   0.000180   Hohengœft   24730.920314   3.361111   \n",
       "CIEL        0.000246   0.000121   Vacanciel   38657.037798   1.388889   \n",
       "NEEW        0.000084   0.000066   Neewiller   38969.213465   2.449932   \n",
       "ZELS        0.000065   0.000068    Zelsheim   42143.981841   1.649954   \n",
       "WALT        0.000049   0.000097  Westhalten   87090.321688   1.366629   \n",
       "ILLF        0.000048   0.000028    Illfurth  116453.372036   1.749951   \n",
       "\n",
       "               Ml       Mlv  \n",
       "station                      \n",
       "STR      2.777480  2.090549  \n",
       "HOHE     1.922862  1.869979  \n",
       "CIEL     2.257550  1.949050  \n",
       "NEEW     1.796989  1.689643  \n",
       "ZELS     1.763280  1.763280  \n",
       "WALT     2.724182  2.724182  \n",
       "ILLF     2.943513  2.718585  "
      ]
     },
     "execution_count": 463,
     "metadata": {},
     "output_type": "execute_result"
    }
   ],
   "source": [
    "df"
   ]
  },
  {
   "cell_type": "code",
   "execution_count": 447,
   "metadata": {},
   "outputs": [],
   "source": [
    "df.to_csv('output.csv', sep=';')\n",
    "# df = pd.read_csv('output.csv', sep=';', index_col='station')"
   ]
  },
  {
   "cell_type": "markdown",
   "metadata": {},
   "source": [
    "### Analyse des données récoltées"
   ]
  },
  {
   "cell_type": "code",
   "execution_count": 494,
   "metadata": {},
   "outputs": [
    {
     "data": {
      "text/plain": [
       "<AxesSubplot:xlabel='distance', ylabel='verticale'>"
      ]
     },
     "execution_count": 494,
     "metadata": {},
     "output_type": "execute_result"
    },
    {
     "data": {
      "image/png": "[encoded data removed]",
      "text/plain": [
       "<Figure size 432x288 with 1 Axes>"
      ]
     },
     "metadata": {
      "needs_background": "light"
     },
     "output_type": "display_data"
    }
   ],
   "source": [
    "df.plot(kind='scatter', x='distance', y='verticale', logy=True)"
   ]
  },
  {
   "cell_type": "code",
   "execution_count": 448,
   "metadata": {},
   "outputs": [
    {
     "data": {
      "image/png": "[encoded data removed]",
      "text/plain": [
       "<Figure size 432x288 with 1 Axes>"
      ]
     },
     "metadata": {
      "needs_background": "light"
     },
     "output_type": "display_data"
    }
   ],
   "source": [
    "for row in df.itertuples():\n",
    "    T = S.select(station=row.Index, component='Z')[0]\n",
    "    spectre(T)\n",
    "plt.savefig('graph.png')"
   ]
  }
 ],
 "metadata": {
  "kernelspec": {
   "display_name": "Python 3",
   "language": "python",
   "name": "python3"
  },
  "language_info": {
   "codemirror_mode": {
    "name": "ipython",
    "version": 3
   },
   "file_extension": ".py",
   "mimetype": "text/x-python",
   "name": "python",
   "nbconvert_exporter": "python",
   "pygments_lexer": "ipython3",
   "version": "3.8.10"
  }
 },
 "nbformat": 4,
 "nbformat_minor": 4
}
